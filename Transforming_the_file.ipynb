{
  "nbformat": 4,
  "nbformat_minor": 0,
  "metadata": {
    "colab": {
      "provenance": [],
      "authorship_tag": "ABX9TyO8WGe8o80X84Zk4CvelWiR",
      "include_colab_link": true
    },
    "kernelspec": {
      "name": "python3",
      "display_name": "Python 3"
    },
    "language_info": {
      "name": "python"
    }
  },
  "cells": [
    {
      "cell_type": "markdown",
      "metadata": {
        "id": "view-in-github",
        "colab_type": "text"
      },
      "source": [
        "<a href=\"https://colab.research.google.com/github/saisumanthkorada/PysprkTransformations/blob/main/Transforming_the_file.ipynb\" target=\"_parent\"><img src=\"https://colab.research.google.com/assets/colab-badge.svg\" alt=\"Open In Colab\"/></a>"
      ]
    },
    {
      "cell_type": "code",
      "execution_count": 1,
      "metadata": {
        "colab": {
          "base_uri": "https://localhost:8080/"
        },
        "id": "btt2YTRDQv7P",
        "outputId": "17df47e6-e845-4759-be20-05c6b4367266"
      },
      "outputs": [
        {
          "output_type": "stream",
          "name": "stdout",
          "text": [
            "Requirement already satisfied: pyspark in /usr/local/lib/python3.11/dist-packages (3.5.1)\n",
            "Requirement already satisfied: py4j==0.10.9.7 in /usr/local/lib/python3.11/dist-packages (from pyspark) (0.10.9.7)\n",
            "Requirement already satisfied: openpyxl in /usr/local/lib/python3.11/dist-packages (3.1.5)\n",
            "Requirement already satisfied: et-xmlfile in /usr/local/lib/python3.11/dist-packages (from openpyxl) (2.0.0)\n"
          ]
        }
      ],
      "source": [
        "!pip install pyspark\n",
        "!pip install openpyxl\n"
      ]
    },
    {
      "cell_type": "code",
      "source": [
        "from google.colab import drive\n",
        "drive.mount('/content/drive')"
      ],
      "metadata": {
        "colab": {
          "base_uri": "https://localhost:8080/"
        },
        "id": "8FvZPDxyUX-8",
        "outputId": "c024f212-38ac-4359-8124-a19e0cbbf768"
      },
      "execution_count": 2,
      "outputs": [
        {
          "output_type": "stream",
          "name": "stdout",
          "text": [
            "Mounted at /content/drive\n"
          ]
        }
      ]
    },
    {
      "cell_type": "code",
      "source": [
        "from pyspark.sql import SparkSession, functions as F\n",
        "from pyspark.sql.functions import split, col,length,right,expr,regexp_extract,regexp_replace,trim,explode,first,lit\n",
        "from pyspark.sql.types import StructType, StructField, StringType, IntegerType, FloatType"
      ],
      "metadata": {
        "id": "QejTzvlJuWHj"
      },
      "execution_count": 3,
      "outputs": []
    },
    {
      "cell_type": "code",
      "source": [
        "spark = SparkSession.builder.getOrCreate()"
      ],
      "metadata": {
        "id": "7ZOOTfn1XYyL"
      },
      "execution_count": 4,
      "outputs": []
    },
    {
      "cell_type": "code",
      "source": [
        "schema = StructType([\n",
        "    StructField(\"movieId\",IntegerType(),True),\n",
        "    StructField(\"title\",StringType(),True),\n",
        "    StructField(\"generes\",StringType(),True)\n",
        "])\n",
        "df1 = spark.read.format('csv')\\\n",
        ".option('header',True)\\\n",
        ".schema(schema)\\\n",
        ".load('/content/drive/MyDrive/ml-latest/movies.csv')\n",
        "df1.show()"
      ],
      "metadata": {
        "colab": {
          "base_uri": "https://localhost:8080/"
        },
        "id": "xch2mF3jubUn",
        "outputId": "9b7a28db-f965-4a3f-8f72-e4b8f91e38d0"
      },
      "execution_count": 5,
      "outputs": [
        {
          "output_type": "stream",
          "name": "stdout",
          "text": [
            "+-------+--------------------+--------------------+\n",
            "|movieId|               title|             generes|\n",
            "+-------+--------------------+--------------------+\n",
            "|      1|    Toy Story (1995)|Adventure|Animati...|\n",
            "|      2|      Jumanji (1995)|Adventure|Childre...|\n",
            "|      3|Grumpier Old Men ...|      Comedy|Romance|\n",
            "|      4|Waiting to Exhale...|Comedy|Drama|Romance|\n",
            "|      5|Father of the Bri...|              Comedy|\n",
            "|      6|         Heat (1995)|Action|Crime|Thri...|\n",
            "|      7|      Sabrina (1995)|      Comedy|Romance|\n",
            "|      8| Tom and Huck (1995)|  Adventure|Children|\n",
            "|      9| Sudden Death (1995)|              Action|\n",
            "|     10|    GoldenEye (1995)|Action|Adventure|...|\n",
            "|     11|American Presiden...|Comedy|Drama|Romance|\n",
            "|     12|Dracula: Dead and...|       Comedy|Horror|\n",
            "|     13|        Balto (1995)|Adventure|Animati...|\n",
            "|     14|        Nixon (1995)|               Drama|\n",
            "|     15|Cutthroat Island ...|Action|Adventure|...|\n",
            "|     16|       Casino (1995)|         Crime|Drama|\n",
            "|     17|Sense and Sensibi...|       Drama|Romance|\n",
            "|     18|   Four Rooms (1995)|              Comedy|\n",
            "|     19|Ace Ventura: When...|              Comedy|\n",
            "|     20|  Money Train (1995)|Action|Comedy|Cri...|\n",
            "+-------+--------------------+--------------------+\n",
            "only showing top 20 rows\n",
            "\n"
          ]
        }
      ]
    },
    {
      "cell_type": "code",
      "source": [
        "df1 = df1.withColumn(\n",
        "  \"year\",\n",
        "  regexp_extract(col(\"title\"), r\"\\((\\d{4})\\)$\", 1)\n",
        ")\n",
        "df1=df1.withColumn(\"title\",\n",
        "    trim(regexp_replace(col(\"title\"), r\"\\s*\\(\\d{4}\\)$\", \"\")))"
      ],
      "metadata": {
        "id": "hR6rDbtewAI_"
      },
      "execution_count": 6,
      "outputs": []
    },
    {
      "cell_type": "code",
      "source": [
        "df1 = df1.withColumn(\"genersarray\",split(col('generes'), r\"\\s*\\|\\s*\"))"
      ],
      "metadata": {
        "id": "dWORB2PrmtU_"
      },
      "execution_count": 7,
      "outputs": []
    },
    {
      "cell_type": "code",
      "source": [
        "df1.show()"
      ],
      "metadata": {
        "colab": {
          "base_uri": "https://localhost:8080/"
        },
        "id": "iF1GeQdixAHm",
        "outputId": "d7722f53-9baa-44d1-ed4d-bc24cc690726"
      },
      "execution_count": 8,
      "outputs": [
        {
          "output_type": "stream",
          "name": "stdout",
          "text": [
            "+-------+--------------------+--------------------+----+--------------------+\n",
            "|movieId|               title|             generes|year|         genersarray|\n",
            "+-------+--------------------+--------------------+----+--------------------+\n",
            "|      1|           Toy Story|Adventure|Animati...|1995|[Adventure, Anima...|\n",
            "|      2|             Jumanji|Adventure|Childre...|1995|[Adventure, Child...|\n",
            "|      3|    Grumpier Old Men|      Comedy|Romance|1995|   [Comedy, Romance]|\n",
            "|      4|   Waiting to Exhale|Comedy|Drama|Romance|1995|[Comedy, Drama, R...|\n",
            "|      5|Father of the Bri...|              Comedy|1995|            [Comedy]|\n",
            "|      6|                Heat|Action|Crime|Thri...|1995|[Action, Crime, T...|\n",
            "|      7|             Sabrina|      Comedy|Romance|1995|   [Comedy, Romance]|\n",
            "|      8|        Tom and Huck|  Adventure|Children|1995|[Adventure, Child...|\n",
            "|      9|        Sudden Death|              Action|1995|            [Action]|\n",
            "|     10|           GoldenEye|Action|Adventure|...|1995|[Action, Adventur...|\n",
            "|     11|American Presiden...|Comedy|Drama|Romance|1995|[Comedy, Drama, R...|\n",
            "|     12|Dracula: Dead and...|       Comedy|Horror|1995|    [Comedy, Horror]|\n",
            "|     13|               Balto|Adventure|Animati...|1995|[Adventure, Anima...|\n",
            "|     14|               Nixon|               Drama|1995|             [Drama]|\n",
            "|     15|    Cutthroat Island|Action|Adventure|...|1995|[Action, Adventur...|\n",
            "|     16|              Casino|         Crime|Drama|1995|      [Crime, Drama]|\n",
            "|     17|Sense and Sensibi...|       Drama|Romance|1995|    [Drama, Romance]|\n",
            "|     18|          Four Rooms|              Comedy|1995|            [Comedy]|\n",
            "|     19|Ace Ventura: When...|              Comedy|1995|            [Comedy]|\n",
            "|     20|         Money Train|Action|Comedy|Cri...|1995|[Action, Comedy, ...|\n",
            "+-------+--------------------+--------------------+----+--------------------+\n",
            "only showing top 20 rows\n",
            "\n"
          ]
        }
      ]
    },
    {
      "cell_type": "code",
      "source": [
        "df_exploded = df1.withColumn(\"generes\",explode(\"genersarray\"))"
      ],
      "metadata": {
        "id": "pf7m_ZSNngpT"
      },
      "execution_count": 9,
      "outputs": []
    },
    {
      "cell_type": "code",
      "source": [
        "df_exploded.show()"
      ],
      "metadata": {
        "colab": {
          "base_uri": "https://localhost:8080/"
        },
        "id": "6HluAbJz4PKa",
        "outputId": "921bf7ad-8f8d-40c3-f794-78a1b38dde08"
      },
      "execution_count": 10,
      "outputs": [
        {
          "output_type": "stream",
          "name": "stdout",
          "text": [
            "+-------+--------------------+---------+----+--------------------+\n",
            "|movieId|               title|  generes|year|         genersarray|\n",
            "+-------+--------------------+---------+----+--------------------+\n",
            "|      1|           Toy Story|Adventure|1995|[Adventure, Anima...|\n",
            "|      1|           Toy Story|Animation|1995|[Adventure, Anima...|\n",
            "|      1|           Toy Story| Children|1995|[Adventure, Anima...|\n",
            "|      1|           Toy Story|   Comedy|1995|[Adventure, Anima...|\n",
            "|      1|           Toy Story|  Fantasy|1995|[Adventure, Anima...|\n",
            "|      2|             Jumanji|Adventure|1995|[Adventure, Child...|\n",
            "|      2|             Jumanji| Children|1995|[Adventure, Child...|\n",
            "|      2|             Jumanji|  Fantasy|1995|[Adventure, Child...|\n",
            "|      3|    Grumpier Old Men|   Comedy|1995|   [Comedy, Romance]|\n",
            "|      3|    Grumpier Old Men|  Romance|1995|   [Comedy, Romance]|\n",
            "|      4|   Waiting to Exhale|   Comedy|1995|[Comedy, Drama, R...|\n",
            "|      4|   Waiting to Exhale|    Drama|1995|[Comedy, Drama, R...|\n",
            "|      4|   Waiting to Exhale|  Romance|1995|[Comedy, Drama, R...|\n",
            "|      5|Father of the Bri...|   Comedy|1995|            [Comedy]|\n",
            "|      6|                Heat|   Action|1995|[Action, Crime, T...|\n",
            "|      6|                Heat|    Crime|1995|[Action, Crime, T...|\n",
            "|      6|                Heat| Thriller|1995|[Action, Crime, T...|\n",
            "|      7|             Sabrina|   Comedy|1995|   [Comedy, Romance]|\n",
            "|      7|             Sabrina|  Romance|1995|   [Comedy, Romance]|\n",
            "|      8|        Tom and Huck|Adventure|1995|[Adventure, Child...|\n",
            "+-------+--------------------+---------+----+--------------------+\n",
            "only showing top 20 rows\n",
            "\n"
          ]
        }
      ]
    },
    {
      "cell_type": "code",
      "source": [
        "df_final = df_exploded.groupBy(\"movieId\",\"title\",\"year\").pivot(\"generes\").agg(first(lit(\"yes\")))"
      ],
      "metadata": {
        "id": "bhTWjKAYry4T"
      },
      "execution_count": 11,
      "outputs": []
    },
    {
      "cell_type": "code",
      "source": [
        "l= df_final.columns"
      ],
      "metadata": {
        "id": "NxEN3AKusJkU"
      },
      "execution_count": 12,
      "outputs": []
    },
    {
      "cell_type": "code",
      "source": [
        "for k in l:\n",
        "  if \"(\" in k:\n",
        "    df_final = df_final.drop(k)"
      ],
      "metadata": {
        "id": "DR0_h05xuCFj"
      },
      "execution_count": 13,
      "outputs": []
    },
    {
      "cell_type": "code",
      "source": [
        "df_final = df_final.fillna(\"no\")\n",
        "df_final.show()"
      ],
      "metadata": {
        "colab": {
          "base_uri": "https://localhost:8080/"
        },
        "id": "eFzFJ4QiunJI",
        "outputId": "40e92636-ec10-4ba0-9b09-bbf7766e1f7c"
      },
      "execution_count": 14,
      "outputs": [
        {
          "output_type": "stream",
          "name": "stdout",
          "text": [
            "+-------+--------------------+----+------+---------+---------+--------+------+-----+-----------+-----+-------+---------+------+----+-------+-------+-------+------+--------+---+-------+\n",
            "|movieId|               title|year|Action|Adventure|Animation|Children|Comedy|Crime|Documentary|Drama|Fantasy|Film-Noir|Horror|IMAX|Musical|Mystery|Romance|Sci-Fi|Thriller|War|Western|\n",
            "+-------+--------------------+----+------+---------+---------+--------+------+-----+-----------+-----+-------+---------+------+----+-------+-------+-------+------+--------+---+-------+\n",
            "|      4|   Waiting to Exhale|1995|    no|       no|       no|      no|   yes|   no|         no|  yes|     no|       no|    no|  no|     no|     no|    yes|    no|      no| no|     no|\n",
            "|      5|Father of the Bri...|1995|    no|       no|       no|      no|   yes|   no|         no|   no|     no|       no|    no|  no|     no|     no|     no|    no|      no| no|     no|\n",
            "|      6|                Heat|1995|   yes|       no|       no|      no|    no|  yes|         no|   no|     no|       no|    no|  no|     no|     no|     no|    no|     yes| no|     no|\n",
            "|      8|        Tom and Huck|1995|    no|      yes|       no|     yes|    no|   no|         no|   no|     no|       no|    no|  no|     no|     no|     no|    no|      no| no|     no|\n",
            "|     12|Dracula: Dead and...|1995|    no|       no|       no|      no|   yes|   no|         no|   no|     no|       no|   yes|  no|     no|     no|     no|    no|      no| no|     no|\n",
            "|     13|               Balto|1995|    no|      yes|      yes|     yes|    no|   no|         no|   no|     no|       no|    no|  no|     no|     no|     no|    no|      no| no|     no|\n",
            "|     15|    Cutthroat Island|1995|   yes|      yes|       no|      no|    no|   no|         no|   no|     no|       no|    no|  no|     no|     no|    yes|    no|      no| no|     no|\n",
            "|     17|Sense and Sensibi...|1995|    no|       no|       no|      no|    no|   no|         no|  yes|     no|       no|    no|  no|     no|     no|    yes|    no|      no| no|     no|\n",
            "|     18|          Four Rooms|1995|    no|       no|       no|      no|   yes|   no|         no|   no|     no|       no|    no|  no|     no|     no|     no|    no|      no| no|     no|\n",
            "|     19|Ace Ventura: When...|1995|    no|       no|       no|      no|   yes|   no|         no|   no|     no|       no|    no|  no|     no|     no|     no|    no|      no| no|     no|\n",
            "|     23|           Assassins|1995|   yes|       no|       no|      no|    no|  yes|         no|   no|     no|       no|    no|  no|     no|     no|     no|    no|     yes| no|     no|\n",
            "|     24|              Powder|1995|    no|       no|       no|      no|    no|   no|         no|  yes|     no|       no|    no|  no|     no|     no|     no|   yes|      no| no|     no|\n",
            "|     25|   Leaving Las Vegas|1995|    no|       no|       no|      no|    no|   no|         no|  yes|     no|       no|    no|  no|     no|     no|    yes|    no|      no| no|     no|\n",
            "|     26|             Othello|1995|    no|       no|       no|      no|    no|   no|         no|  yes|     no|       no|    no|  no|     no|     no|     no|    no|      no| no|     no|\n",
            "|     35|          Carrington|1995|    no|       no|       no|      no|    no|   no|         no|  yes|     no|       no|    no|  no|     no|     no|    yes|    no|      no| no|     no|\n",
            "|     36|    Dead Man Walking|1995|    no|       no|       no|      no|    no|  yes|         no|  yes|     no|       no|    no|  no|     no|     no|     no|    no|      no| no|     no|\n",
            "|     37|Across the Sea of...|1995|    no|       no|       no|      no|    no|   no|        yes|   no|     no|       no|    no| yes|     no|     no|     no|    no|      no| no|     no|\n",
            "|     39|            Clueless|1995|    no|       no|       no|      no|   yes|   no|         no|   no|     no|       no|    no|  no|     no|     no|    yes|    no|      no| no|     no|\n",
            "|     40|Cry, the Beloved ...|1995|    no|       no|       no|      no|    no|   no|         no|  yes|     no|       no|    no|  no|     no|     no|     no|    no|      no| no|     no|\n",
            "|     41|         Richard III|1995|    no|       no|       no|      no|    no|   no|         no|  yes|     no|       no|    no|  no|     no|     no|     no|    no|      no|yes|     no|\n",
            "+-------+--------------------+----+------+---------+---------+--------+------+-----+-----------+-----+-------+---------+------+----+-------+-------+-------+------+--------+---+-------+\n",
            "only showing top 20 rows\n",
            "\n"
          ]
        }
      ]
    },
    {
      "cell_type": "code",
      "source": [
        "df_final = df_final.dropDuplicates()"
      ],
      "metadata": {
        "id": "5aPjU9aK7nYL"
      },
      "execution_count": 15,
      "outputs": []
    },
    {
      "cell_type": "code",
      "source": [
        "df_final = df_final.orderBy('movieId')"
      ],
      "metadata": {
        "id": "WC98fr7d73zO"
      },
      "execution_count": 16,
      "outputs": []
    },
    {
      "cell_type": "code",
      "source": [
        "df_final.show()"
      ],
      "metadata": {
        "colab": {
          "base_uri": "https://localhost:8080/"
        },
        "id": "dp3vx4dIwA5b",
        "outputId": "b859de72-99d3-4319-eac1-c7271dbfd480"
      },
      "execution_count": 17,
      "outputs": [
        {
          "output_type": "stream",
          "name": "stdout",
          "text": [
            "+-------+--------------------+----+------+---------+---------+--------+------+-----+-----------+-----+-------+---------+------+----+-------+-------+-------+------+--------+---+-------+\n",
            "|movieId|               title|year|Action|Adventure|Animation|Children|Comedy|Crime|Documentary|Drama|Fantasy|Film-Noir|Horror|IMAX|Musical|Mystery|Romance|Sci-Fi|Thriller|War|Western|\n",
            "+-------+--------------------+----+------+---------+---------+--------+------+-----+-----------+-----+-------+---------+------+----+-------+-------+-------+------+--------+---+-------+\n",
            "|      1|           Toy Story|1995|    no|      yes|      yes|     yes|   yes|   no|         no|   no|    yes|       no|    no|  no|     no|     no|     no|    no|      no| no|     no|\n",
            "|      2|             Jumanji|1995|    no|      yes|       no|     yes|    no|   no|         no|   no|    yes|       no|    no|  no|     no|     no|     no|    no|      no| no|     no|\n",
            "|      3|    Grumpier Old Men|1995|    no|       no|       no|      no|   yes|   no|         no|   no|     no|       no|    no|  no|     no|     no|    yes|    no|      no| no|     no|\n",
            "|      4|   Waiting to Exhale|1995|    no|       no|       no|      no|   yes|   no|         no|  yes|     no|       no|    no|  no|     no|     no|    yes|    no|      no| no|     no|\n",
            "|      5|Father of the Bri...|1995|    no|       no|       no|      no|   yes|   no|         no|   no|     no|       no|    no|  no|     no|     no|     no|    no|      no| no|     no|\n",
            "|      6|                Heat|1995|   yes|       no|       no|      no|    no|  yes|         no|   no|     no|       no|    no|  no|     no|     no|     no|    no|     yes| no|     no|\n",
            "|      7|             Sabrina|1995|    no|       no|       no|      no|   yes|   no|         no|   no|     no|       no|    no|  no|     no|     no|    yes|    no|      no| no|     no|\n",
            "|      8|        Tom and Huck|1995|    no|      yes|       no|     yes|    no|   no|         no|   no|     no|       no|    no|  no|     no|     no|     no|    no|      no| no|     no|\n",
            "|      9|        Sudden Death|1995|   yes|       no|       no|      no|    no|   no|         no|   no|     no|       no|    no|  no|     no|     no|     no|    no|      no| no|     no|\n",
            "|     10|           GoldenEye|1995|   yes|      yes|       no|      no|    no|   no|         no|   no|     no|       no|    no|  no|     no|     no|     no|    no|     yes| no|     no|\n",
            "|     11|American Presiden...|1995|    no|       no|       no|      no|   yes|   no|         no|  yes|     no|       no|    no|  no|     no|     no|    yes|    no|      no| no|     no|\n",
            "|     12|Dracula: Dead and...|1995|    no|       no|       no|      no|   yes|   no|         no|   no|     no|       no|   yes|  no|     no|     no|     no|    no|      no| no|     no|\n",
            "|     13|               Balto|1995|    no|      yes|      yes|     yes|    no|   no|         no|   no|     no|       no|    no|  no|     no|     no|     no|    no|      no| no|     no|\n",
            "|     14|               Nixon|1995|    no|       no|       no|      no|    no|   no|         no|  yes|     no|       no|    no|  no|     no|     no|     no|    no|      no| no|     no|\n",
            "|     15|    Cutthroat Island|1995|   yes|      yes|       no|      no|    no|   no|         no|   no|     no|       no|    no|  no|     no|     no|    yes|    no|      no| no|     no|\n",
            "|     16|              Casino|1995|    no|       no|       no|      no|    no|  yes|         no|  yes|     no|       no|    no|  no|     no|     no|     no|    no|      no| no|     no|\n",
            "|     17|Sense and Sensibi...|1995|    no|       no|       no|      no|    no|   no|         no|  yes|     no|       no|    no|  no|     no|     no|    yes|    no|      no| no|     no|\n",
            "|     18|          Four Rooms|1995|    no|       no|       no|      no|   yes|   no|         no|   no|     no|       no|    no|  no|     no|     no|     no|    no|      no| no|     no|\n",
            "|     19|Ace Ventura: When...|1995|    no|       no|       no|      no|   yes|   no|         no|   no|     no|       no|    no|  no|     no|     no|     no|    no|      no| no|     no|\n",
            "|     20|         Money Train|1995|   yes|       no|       no|      no|   yes|  yes|         no|  yes|     no|       no|    no|  no|     no|     no|     no|    no|     yes| no|     no|\n",
            "+-------+--------------------+----+------+---------+---------+--------+------+-----+-----------+-----+-------+---------+------+----+-------+-------+-------+------+--------+---+-------+\n",
            "only showing top 20 rows\n",
            "\n"
          ]
        }
      ]
    },
    {
      "cell_type": "code",
      "source": [
        "df_final.write.format('csv').option('header','True').mode('overwrite').save('/content/drive/MyDrive/Silver_Layer/movies_transformed.csv')"
      ],
      "metadata": {
        "id": "1K5m_llWAuqg"
      },
      "execution_count": null,
      "outputs": []
    },
    {
      "cell_type": "code",
      "source": [
        "schema2 = StructType([StructField(\"userId\",IntegerType(),True),\n",
        "                      StructField(\"movieId\",IntegerType(),True),\n",
        "                      StructField(\"rating\",FloatType(),True),\n",
        "                      StructField(\"timestamp\",IntegerType(),True)])\n",
        "df2 = spark.read.format('csv')\\\n",
        ".option('header',True)\\\n",
        ".schema(schema2)\\\n",
        ".load('/content/drive/MyDrive/ml-latest/ratings.csv')"
      ],
      "metadata": {
        "id": "7JzO-e3f5YxC"
      },
      "execution_count": 18,
      "outputs": []
    },
    {
      "cell_type": "code",
      "source": [
        "df2.show()"
      ],
      "metadata": {
        "colab": {
          "base_uri": "https://localhost:8080/"
        },
        "id": "X9ng9ZKo9y0s",
        "outputId": "dbd400c6-ccc7-4af5-fa2d-499cf870c58a"
      },
      "execution_count": 25,
      "outputs": [
        {
          "output_type": "stream",
          "name": "stdout",
          "text": [
            "+------+-------+------+----------+\n",
            "|userId|movieId|rating| timestamp|\n",
            "+------+-------+------+----------+\n",
            "|     1|      1|   4.0|1225734739|\n",
            "|     1|    110|   4.0|1225865086|\n",
            "|     1|    158|   4.0|1225733503|\n",
            "|     1|    260|   4.5|1225735204|\n",
            "|     1|    356|   5.0|1225735119|\n",
            "|     1|    381|   3.5|1225734105|\n",
            "|     1|    596|   4.0|1225733524|\n",
            "|     1|   1036|   5.0|1225735626|\n",
            "|     1|   1049|   3.0|1225734079|\n",
            "|     1|   1066|   4.0|1225736961|\n",
            "|     1|   1196|   3.5|1225735441|\n",
            "|     1|   1200|   3.5|1225735861|\n",
            "|     1|   1210|   4.5|1225735210|\n",
            "|     1|   1214|   4.0|1225736426|\n",
            "|     1|   1291|   5.0|1225734809|\n",
            "|     1|   1293|   2.0|1225733842|\n",
            "|     1|   1376|   3.0|1225733539|\n",
            "|     1|   1396|   3.0|1225733534|\n",
            "|     1|   1537|   4.0|1225736687|\n",
            "|     1|   1909|   3.0|1225733717|\n",
            "+------+-------+------+----------+\n",
            "only showing top 20 rows\n",
            "\n"
          ]
        }
      ]
    },
    {
      "cell_type": "code",
      "source": [
        "df2 = df2.withColumn(\"timestamp\",F.from_unixtime(\"timestamp\").cast(\"timestamp\"))"
      ],
      "metadata": {
        "id": "PXMWBzqhF_hh"
      },
      "execution_count": 19,
      "outputs": []
    },
    {
      "cell_type": "code",
      "source": [
        "df2 = df2.withColumn(\"date\",F.date_format(\"timestamp\",\"yyyy-mm-dd\"))"
      ],
      "metadata": {
        "id": "k8iOCCa8GJGk"
      },
      "execution_count": 20,
      "outputs": []
    },
    {
      "cell_type": "code",
      "source": [
        "df2 = df2.drop(\"year\")"
      ],
      "metadata": {
        "id": "kXHQumI8AG14"
      },
      "execution_count": 21,
      "outputs": []
    },
    {
      "cell_type": "code",
      "source": [
        "df_ratings = df2"
      ],
      "metadata": {
        "id": "vfADYxv-AAJy"
      },
      "execution_count": 22,
      "outputs": []
    },
    {
      "cell_type": "code",
      "source": [
        "df_ratings.show(20)"
      ],
      "metadata": {
        "colab": {
          "base_uri": "https://localhost:8080/"
        },
        "id": "B4t-kUiK1G45",
        "outputId": "b1962758-2707-4481-95c2-1f932f91c350"
      },
      "execution_count": 23,
      "outputs": [
        {
          "output_type": "stream",
          "name": "stdout",
          "text": [
            "+------+-------+------+-------------------+----------+\n",
            "|userId|movieId|rating|          timestamp|      date|\n",
            "+------+-------+------+-------------------+----------+\n",
            "|     1|      1|   4.0|2008-11-03 17:52:19|2008-52-03|\n",
            "|     1|    110|   4.0|2008-11-05 06:04:46|2008-04-05|\n",
            "|     1|    158|   4.0|2008-11-03 17:31:43|2008-31-03|\n",
            "|     1|    260|   4.5|2008-11-03 18:00:04|2008-00-03|\n",
            "|     1|    356|   5.0|2008-11-03 17:58:39|2008-58-03|\n",
            "|     1|    381|   3.5|2008-11-03 17:41:45|2008-41-03|\n",
            "|     1|    596|   4.0|2008-11-03 17:32:04|2008-32-03|\n",
            "|     1|   1036|   5.0|2008-11-03 18:07:06|2008-07-03|\n",
            "|     1|   1049|   3.0|2008-11-03 17:41:19|2008-41-03|\n",
            "|     1|   1066|   4.0|2008-11-03 18:29:21|2008-29-03|\n",
            "|     1|   1196|   3.5|2008-11-03 18:04:01|2008-04-03|\n",
            "|     1|   1200|   3.5|2008-11-03 18:11:01|2008-11-03|\n",
            "|     1|   1210|   4.5|2008-11-03 18:00:10|2008-00-03|\n",
            "|     1|   1214|   4.0|2008-11-03 18:20:26|2008-20-03|\n",
            "|     1|   1291|   5.0|2008-11-03 17:53:29|2008-53-03|\n",
            "|     1|   1293|   2.0|2008-11-03 17:37:22|2008-37-03|\n",
            "|     1|   1376|   3.0|2008-11-03 17:32:19|2008-32-03|\n",
            "|     1|   1396|   3.0|2008-11-03 17:32:14|2008-32-03|\n",
            "|     1|   1537|   4.0|2008-11-03 18:24:47|2008-24-03|\n",
            "|     1|   1909|   3.0|2008-11-03 17:35:17|2008-35-03|\n",
            "+------+-------+------+-------------------+----------+\n",
            "only showing top 20 rows\n",
            "\n"
          ]
        }
      ]
    },
    {
      "cell_type": "code",
      "source": [
        "from IPython.display import Markdown, display\n",
        "\n"
      ],
      "metadata": {
        "id": "N1RpNbWZZhR2"
      },
      "execution_count": 27,
      "outputs": []
    },
    {
      "cell_type": "code",
      "source": [
        "display(Markdown(\"## Retrieving the movie names using broadcast variables \"))\n"
      ],
      "metadata": {
        "colab": {
          "base_uri": "https://localhost:8080/",
          "height": 64
        },
        "id": "xXd7x71nZnec",
        "outputId": "f9ac3c11-fea3-404d-cbf7-105e2c091c74"
      },
      "execution_count": 28,
      "outputs": [
        {
          "output_type": "display_data",
          "data": {
            "text/plain": [
              "<IPython.core.display.Markdown object>"
            ],
            "text/markdown": "## Retrieving the movie names using broadcast variables "
          },
          "metadata": {}
        }
      ]
    },
    {
      "cell_type": "code",
      "source": [
        "movie_dict = dict(df_final.rdd.map(lambda x: (x['movieId'], x['title'])).collect())"
      ],
      "metadata": {
        "id": "eFXaznyyZ0g5"
      },
      "execution_count": 29,
      "outputs": []
    },
    {
      "cell_type": "code",
      "source": [
        "movie_b = spark.sparkContext.broadcast(movie_dict)"
      ],
      "metadata": {
        "id": "0CZDWVwtlbIj"
      },
      "execution_count": 30,
      "outputs": []
    },
    {
      "cell_type": "code",
      "source": [
        "from pyspark.sql import Row\n",
        "\n",
        "ratings_with_names_rdd = df_ratings.rdd.map(\n",
        "    lambda row: Row(\n",
        "        user_id=row['userId'],\n",
        "        movie_id=row['movieId'],\n",
        "        rating=row['rating'],\n",
        "        date=row['date'],\n",
        "        movie_name=movie_b.value.get(row['movieId'], 'Unknown')\n",
        "    )\n",
        ")\n"
      ],
      "metadata": {
        "id": "r4pV0l7ClwCz"
      },
      "execution_count": 31,
      "outputs": []
    },
    {
      "cell_type": "code",
      "source": [
        "df_final_ratings_withnames = spark.createDataFrame(ratings_with_names_rdd)"
      ],
      "metadata": {
        "id": "M7FlZErTp_G_"
      },
      "execution_count": 32,
      "outputs": []
    },
    {
      "cell_type": "code",
      "source": [
        "display(Markdown(\"## Finding the average ratings of movies   \"))\n"
      ],
      "metadata": {
        "colab": {
          "base_uri": "https://localhost:8080/",
          "height": 64
        },
        "id": "AgmwGdCY8m17",
        "outputId": "dbfc9a48-3830-4044-ae8b-ea563007c4f4"
      },
      "execution_count": 38,
      "outputs": [
        {
          "output_type": "display_data",
          "data": {
            "text/plain": [
              "<IPython.core.display.Markdown object>"
            ],
            "text/markdown": "## Finding the average ratings of movies   "
          },
          "metadata": {}
        }
      ]
    },
    {
      "cell_type": "code",
      "source": [
        "df_final_ratings_withnames.groupBy(\"movie_id\",\"movie_name\").agg(F.avg(\"rating\").alias(\"avg_rating\")).orderBy(\"movie_id\",ascending=False).show(20)"
      ],
      "metadata": {
        "id": "NtYCUvrb68po",
        "colab": {
          "base_uri": "https://localhost:8080/"
        },
        "outputId": "0bc00d6a-195e-4b81-e526-18c29f07e99c"
      },
      "execution_count": 42,
      "outputs": [
        {
          "output_type": "stream",
          "name": "stdout",
          "text": [
            "+--------+--------------------+----------+\n",
            "|movie_id|          movie_name|avg_rating|\n",
            "+--------+--------------------+----------+\n",
            "|  288983|UNZIPPED: An Auto...|       3.0|\n",
            "|  288977|Skinford: Death S...|       3.0|\n",
            "|  288975|The Men Who Made ...|       4.0|\n",
            "|  288971|         Ouija Japan|       0.5|\n",
            "|  288967|State of Siege: T...|       3.5|\n",
            "|  288965|            Камертон|       2.5|\n",
            "|  288959|Letters Of Happiness|       2.0|\n",
            "|  288957|     Ballet Of Blood|       1.0|\n",
            "|  288955|     Agata's Friends|       2.0|\n",
            "|  288953|    The Eyes Have It|       1.5|\n",
            "|  288951|    A Taste of Whale|       3.5|\n",
            "|  288949|Eldorado: Everyth...|       0.5|\n",
            "|  288947|The Year I Starte...|       0.5|\n",
            "|  288945|Mr. Car and the K...|      0.75|\n",
            "|  288943|         The Mount 2|       1.5|\n",
            "|  288941|       Mixed Baggage|      4.75|\n",
            "|  288939|      Wedding Season|      4.25|\n",
            "|  288935|          Kosovolove|       2.0|\n",
            "|  288931|     V for Vengeance|       4.5|\n",
            "|  288927|            Fortunes|       2.5|\n",
            "+--------+--------------------+----------+\n",
            "only showing top 20 rows\n",
            "\n"
          ]
        }
      ]
    },
    {
      "cell_type": "code",
      "source": [
        "df_final_ratings = df_final_ratings_withnames"
      ],
      "metadata": {
        "id": "mP2foBZQm_Xn"
      },
      "execution_count": 35,
      "outputs": []
    },
    {
      "cell_type": "code",
      "source": [
        "df_final_ratings.write.format('csv').option('header','True').mode('overwrite').save('/content/drive/MyDrive/Silver_Layer/ratings_transformed.csv')"
      ],
      "metadata": {
        "id": "n7Pby7EikH7R"
      },
      "execution_count": 36,
      "outputs": []
    }
  ]
}