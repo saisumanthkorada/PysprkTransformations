{
  "nbformat": 4,
  "nbformat_minor": 0,
  "metadata": {
    "colab": {
      "provenance": [],
      "authorship_tag": "ABX9TyNyAaoRX7pXdWTcIZRw8l+n",
      "include_colab_link": true
    },
    "kernelspec": {
      "name": "python3",
      "display_name": "Python 3"
    },
    "language_info": {
      "name": "python"
    }
  },
  "cells": [
    {
      "cell_type": "markdown",
      "metadata": {
        "id": "view-in-github",
        "colab_type": "text"
      },
      "source": [
        "<a href=\"https://colab.research.google.com/github/saisumanthkorada/PysprkTransformations/blob/main/Transforming_the_file.ipynb\" target=\"_parent\"><img src=\"https://colab.research.google.com/assets/colab-badge.svg\" alt=\"Open In Colab\"/></a>"
      ]
    },
    {
      "cell_type": "code",
      "execution_count": 1,
      "metadata": {
        "colab": {
          "base_uri": "https://localhost:8080/"
        },
        "id": "btt2YTRDQv7P",
        "outputId": "db48d08c-6c04-4f13-c351-80aa8d7d232b"
      },
      "outputs": [
        {
          "output_type": "stream",
          "name": "stdout",
          "text": [
            "Requirement already satisfied: pyspark in /usr/local/lib/python3.11/dist-packages (3.5.1)\n",
            "Requirement already satisfied: py4j==0.10.9.7 in /usr/local/lib/python3.11/dist-packages (from pyspark) (0.10.9.7)\n",
            "Requirement already satisfied: openpyxl in /usr/local/lib/python3.11/dist-packages (3.1.5)\n",
            "Requirement already satisfied: et-xmlfile in /usr/local/lib/python3.11/dist-packages (from openpyxl) (2.0.0)\n"
          ]
        }
      ],
      "source": [
        "!pip install pyspark\n",
        "!pip install openpyxl\n"
      ]
    },
    {
      "cell_type": "code",
      "source": [
        "from google.colab import drive\n",
        "drive.mount('/content/drive')"
      ],
      "metadata": {
        "colab": {
          "base_uri": "https://localhost:8080/"
        },
        "id": "8FvZPDxyUX-8",
        "outputId": "752e9e5f-fef8-4b60-888e-4795fcc95e5e"
      },
      "execution_count": 2,
      "outputs": [
        {
          "output_type": "stream",
          "name": "stdout",
          "text": [
            "Mounted at /content/drive\n"
          ]
        }
      ]
    },
    {
      "cell_type": "code",
      "source": [
        "from pyspark.sql import SparkSession, functions as F\n",
        "from pyspark.sql.functions import split, col,length,right,expr,regexp_extract,regexp_replace,trim,explode,first,lit\n",
        "from pyspark.sql.types import StructType, StructField, StringType, IntegerType, FloatType"
      ],
      "metadata": {
        "id": "QejTzvlJuWHj"
      },
      "execution_count": 24,
      "outputs": []
    },
    {
      "cell_type": "code",
      "source": [
        "schema = StructType([\n",
        "    StructField(\"movieId\",IntegerType(),True),\n",
        "    StructField(\"title\",StringType(),True),\n",
        "    StructField(\"generes\",StringType(),True)\n",
        "])\n",
        "spark = SparkSession.builder.getOrCreate()\n",
        "df1 = spark.read.format('csv')\\\n",
        ".option('header',True)\\\n",
        ".schema(schema)\\\n",
        ".load('/content/drive/MyDrive/ml-latest/movies.csv')\n",
        "df1.show()"
      ],
      "metadata": {
        "colab": {
          "base_uri": "https://localhost:8080/"
        },
        "id": "xch2mF3jubUn",
        "outputId": "8601997b-6ab4-472c-aaa3-4f93b4af4e1b"
      },
      "execution_count": 4,
      "outputs": [
        {
          "output_type": "stream",
          "name": "stdout",
          "text": [
            "+-------+--------------------+--------------------+\n",
            "|movieId|               title|             generes|\n",
            "+-------+--------------------+--------------------+\n",
            "|      1|    Toy Story (1995)|Adventure|Animati...|\n",
            "|      2|      Jumanji (1995)|Adventure|Childre...|\n",
            "|      3|Grumpier Old Men ...|      Comedy|Romance|\n",
            "|      4|Waiting to Exhale...|Comedy|Drama|Romance|\n",
            "|      5|Father of the Bri...|              Comedy|\n",
            "|      6|         Heat (1995)|Action|Crime|Thri...|\n",
            "|      7|      Sabrina (1995)|      Comedy|Romance|\n",
            "|      8| Tom and Huck (1995)|  Adventure|Children|\n",
            "|      9| Sudden Death (1995)|              Action|\n",
            "|     10|    GoldenEye (1995)|Action|Adventure|...|\n",
            "|     11|American Presiden...|Comedy|Drama|Romance|\n",
            "|     12|Dracula: Dead and...|       Comedy|Horror|\n",
            "|     13|        Balto (1995)|Adventure|Animati...|\n",
            "|     14|        Nixon (1995)|               Drama|\n",
            "|     15|Cutthroat Island ...|Action|Adventure|...|\n",
            "|     16|       Casino (1995)|         Crime|Drama|\n",
            "|     17|Sense and Sensibi...|       Drama|Romance|\n",
            "|     18|   Four Rooms (1995)|              Comedy|\n",
            "|     19|Ace Ventura: When...|              Comedy|\n",
            "|     20|  Money Train (1995)|Action|Comedy|Cri...|\n",
            "+-------+--------------------+--------------------+\n",
            "only showing top 20 rows\n",
            "\n"
          ]
        }
      ]
    },
    {
      "cell_type": "code",
      "source": [
        "df1 = df1.withColumn(\n",
        "  \"year\",\n",
        "  regexp_extract(col(\"title\"), r\"\\((\\d{4})\\)$\", 1)\n",
        ")\n",
        "df1=df1.withColumn(\"title\",\n",
        "    trim(regexp_replace(col(\"title\"), r\"\\s*\\(\\d{4}\\)$\", \"\")))"
      ],
      "metadata": {
        "id": "hR6rDbtewAI_"
      },
      "execution_count": 5,
      "outputs": []
    },
    {
      "cell_type": "code",
      "source": [
        "df1 = df1.withColumn(\"genersarray\",split(col('generes'), r\"\\s*\\|\\s*\"))"
      ],
      "metadata": {
        "id": "dWORB2PrmtU_"
      },
      "execution_count": 6,
      "outputs": []
    },
    {
      "cell_type": "code",
      "source": [
        "df1.show()"
      ],
      "metadata": {
        "colab": {
          "base_uri": "https://localhost:8080/"
        },
        "id": "iF1GeQdixAHm",
        "outputId": "ba08213c-338b-48e2-85d3-f162d3c00d57"
      },
      "execution_count": 7,
      "outputs": [
        {
          "output_type": "stream",
          "name": "stdout",
          "text": [
            "+-------+--------------------+--------------------+----+--------------------+\n",
            "|movieId|               title|             generes|year|         genersarray|\n",
            "+-------+--------------------+--------------------+----+--------------------+\n",
            "|      1|           Toy Story|Adventure|Animati...|1995|[Adventure, Anima...|\n",
            "|      2|             Jumanji|Adventure|Childre...|1995|[Adventure, Child...|\n",
            "|      3|    Grumpier Old Men|      Comedy|Romance|1995|   [Comedy, Romance]|\n",
            "|      4|   Waiting to Exhale|Comedy|Drama|Romance|1995|[Comedy, Drama, R...|\n",
            "|      5|Father of the Bri...|              Comedy|1995|            [Comedy]|\n",
            "|      6|                Heat|Action|Crime|Thri...|1995|[Action, Crime, T...|\n",
            "|      7|             Sabrina|      Comedy|Romance|1995|   [Comedy, Romance]|\n",
            "|      8|        Tom and Huck|  Adventure|Children|1995|[Adventure, Child...|\n",
            "|      9|        Sudden Death|              Action|1995|            [Action]|\n",
            "|     10|           GoldenEye|Action|Adventure|...|1995|[Action, Adventur...|\n",
            "|     11|American Presiden...|Comedy|Drama|Romance|1995|[Comedy, Drama, R...|\n",
            "|     12|Dracula: Dead and...|       Comedy|Horror|1995|    [Comedy, Horror]|\n",
            "|     13|               Balto|Adventure|Animati...|1995|[Adventure, Anima...|\n",
            "|     14|               Nixon|               Drama|1995|             [Drama]|\n",
            "|     15|    Cutthroat Island|Action|Adventure|...|1995|[Action, Adventur...|\n",
            "|     16|              Casino|         Crime|Drama|1995|      [Crime, Drama]|\n",
            "|     17|Sense and Sensibi...|       Drama|Romance|1995|    [Drama, Romance]|\n",
            "|     18|          Four Rooms|              Comedy|1995|            [Comedy]|\n",
            "|     19|Ace Ventura: When...|              Comedy|1995|            [Comedy]|\n",
            "|     20|         Money Train|Action|Comedy|Cri...|1995|[Action, Comedy, ...|\n",
            "+-------+--------------------+--------------------+----+--------------------+\n",
            "only showing top 20 rows\n",
            "\n"
          ]
        }
      ]
    },
    {
      "cell_type": "code",
      "source": [
        "df_exploded = df1.withColumn(\"generes\",explode(\"genersarray\"))"
      ],
      "metadata": {
        "id": "pf7m_ZSNngpT"
      },
      "execution_count": 8,
      "outputs": []
    },
    {
      "cell_type": "code",
      "source": [
        "df_exploded.show()"
      ],
      "metadata": {
        "colab": {
          "base_uri": "https://localhost:8080/"
        },
        "id": "6HluAbJz4PKa",
        "outputId": "91bedcad-c45d-4ef8-de67-131ae1c4a0c1"
      },
      "execution_count": 9,
      "outputs": [
        {
          "output_type": "stream",
          "name": "stdout",
          "text": [
            "+-------+--------------------+---------+----+--------------------+\n",
            "|movieId|               title|  generes|year|         genersarray|\n",
            "+-------+--------------------+---------+----+--------------------+\n",
            "|      1|           Toy Story|Adventure|1995|[Adventure, Anima...|\n",
            "|      1|           Toy Story|Animation|1995|[Adventure, Anima...|\n",
            "|      1|           Toy Story| Children|1995|[Adventure, Anima...|\n",
            "|      1|           Toy Story|   Comedy|1995|[Adventure, Anima...|\n",
            "|      1|           Toy Story|  Fantasy|1995|[Adventure, Anima...|\n",
            "|      2|             Jumanji|Adventure|1995|[Adventure, Child...|\n",
            "|      2|             Jumanji| Children|1995|[Adventure, Child...|\n",
            "|      2|             Jumanji|  Fantasy|1995|[Adventure, Child...|\n",
            "|      3|    Grumpier Old Men|   Comedy|1995|   [Comedy, Romance]|\n",
            "|      3|    Grumpier Old Men|  Romance|1995|   [Comedy, Romance]|\n",
            "|      4|   Waiting to Exhale|   Comedy|1995|[Comedy, Drama, R...|\n",
            "|      4|   Waiting to Exhale|    Drama|1995|[Comedy, Drama, R...|\n",
            "|      4|   Waiting to Exhale|  Romance|1995|[Comedy, Drama, R...|\n",
            "|      5|Father of the Bri...|   Comedy|1995|            [Comedy]|\n",
            "|      6|                Heat|   Action|1995|[Action, Crime, T...|\n",
            "|      6|                Heat|    Crime|1995|[Action, Crime, T...|\n",
            "|      6|                Heat| Thriller|1995|[Action, Crime, T...|\n",
            "|      7|             Sabrina|   Comedy|1995|   [Comedy, Romance]|\n",
            "|      7|             Sabrina|  Romance|1995|   [Comedy, Romance]|\n",
            "|      8|        Tom and Huck|Adventure|1995|[Adventure, Child...|\n",
            "+-------+--------------------+---------+----+--------------------+\n",
            "only showing top 20 rows\n",
            "\n"
          ]
        }
      ]
    },
    {
      "cell_type": "code",
      "source": [
        "df_final = df_exploded.groupBy(\"movieId\",\"title\",\"year\").pivot(\"generes\").agg(first(lit(\"yes\")))"
      ],
      "metadata": {
        "id": "bhTWjKAYry4T"
      },
      "execution_count": 10,
      "outputs": []
    },
    {
      "cell_type": "code",
      "source": [
        "l= df_final.columns"
      ],
      "metadata": {
        "id": "NxEN3AKusJkU"
      },
      "execution_count": 11,
      "outputs": []
    },
    {
      "cell_type": "code",
      "source": [
        "for k in l:\n",
        "  if \"(\" in k:\n",
        "    df_final = df_final.drop(k)"
      ],
      "metadata": {
        "id": "DR0_h05xuCFj"
      },
      "execution_count": 12,
      "outputs": []
    },
    {
      "cell_type": "code",
      "source": [
        "df_final = df_final.fillna(\"no\")\n",
        "df_final.show()"
      ],
      "metadata": {
        "colab": {
          "base_uri": "https://localhost:8080/"
        },
        "id": "eFzFJ4QiunJI",
        "outputId": "9ae503d2-4190-4842-cfd0-d3948372c98e"
      },
      "execution_count": 13,
      "outputs": [
        {
          "output_type": "stream",
          "name": "stdout",
          "text": [
            "+-------+--------------------+----+------+---------+---------+--------+------+-----+-----------+-----+-------+---------+------+----+-------+-------+-------+------+--------+---+-------+\n",
            "|movieId|               title|year|Action|Adventure|Animation|Children|Comedy|Crime|Documentary|Drama|Fantasy|Film-Noir|Horror|IMAX|Musical|Mystery|Romance|Sci-Fi|Thriller|War|Western|\n",
            "+-------+--------------------+----+------+---------+---------+--------+------+-----+-----------+-----+-------+---------+------+----+-------+-------+-------+------+--------+---+-------+\n",
            "|      4|   Waiting to Exhale|1995|    no|       no|       no|      no|   yes|   no|         no|  yes|     no|       no|    no|  no|     no|     no|    yes|    no|      no| no|     no|\n",
            "|      5|Father of the Bri...|1995|    no|       no|       no|      no|   yes|   no|         no|   no|     no|       no|    no|  no|     no|     no|     no|    no|      no| no|     no|\n",
            "|      6|                Heat|1995|   yes|       no|       no|      no|    no|  yes|         no|   no|     no|       no|    no|  no|     no|     no|     no|    no|     yes| no|     no|\n",
            "|      8|        Tom and Huck|1995|    no|      yes|       no|     yes|    no|   no|         no|   no|     no|       no|    no|  no|     no|     no|     no|    no|      no| no|     no|\n",
            "|     12|Dracula: Dead and...|1995|    no|       no|       no|      no|   yes|   no|         no|   no|     no|       no|   yes|  no|     no|     no|     no|    no|      no| no|     no|\n",
            "|     13|               Balto|1995|    no|      yes|      yes|     yes|    no|   no|         no|   no|     no|       no|    no|  no|     no|     no|     no|    no|      no| no|     no|\n",
            "|     15|    Cutthroat Island|1995|   yes|      yes|       no|      no|    no|   no|         no|   no|     no|       no|    no|  no|     no|     no|    yes|    no|      no| no|     no|\n",
            "|     17|Sense and Sensibi...|1995|    no|       no|       no|      no|    no|   no|         no|  yes|     no|       no|    no|  no|     no|     no|    yes|    no|      no| no|     no|\n",
            "|     18|          Four Rooms|1995|    no|       no|       no|      no|   yes|   no|         no|   no|     no|       no|    no|  no|     no|     no|     no|    no|      no| no|     no|\n",
            "|     19|Ace Ventura: When...|1995|    no|       no|       no|      no|   yes|   no|         no|   no|     no|       no|    no|  no|     no|     no|     no|    no|      no| no|     no|\n",
            "|     23|           Assassins|1995|   yes|       no|       no|      no|    no|  yes|         no|   no|     no|       no|    no|  no|     no|     no|     no|    no|     yes| no|     no|\n",
            "|     24|              Powder|1995|    no|       no|       no|      no|    no|   no|         no|  yes|     no|       no|    no|  no|     no|     no|     no|   yes|      no| no|     no|\n",
            "|     25|   Leaving Las Vegas|1995|    no|       no|       no|      no|    no|   no|         no|  yes|     no|       no|    no|  no|     no|     no|    yes|    no|      no| no|     no|\n",
            "|     26|             Othello|1995|    no|       no|       no|      no|    no|   no|         no|  yes|     no|       no|    no|  no|     no|     no|     no|    no|      no| no|     no|\n",
            "|     35|          Carrington|1995|    no|       no|       no|      no|    no|   no|         no|  yes|     no|       no|    no|  no|     no|     no|    yes|    no|      no| no|     no|\n",
            "|     36|    Dead Man Walking|1995|    no|       no|       no|      no|    no|  yes|         no|  yes|     no|       no|    no|  no|     no|     no|     no|    no|      no| no|     no|\n",
            "|     37|Across the Sea of...|1995|    no|       no|       no|      no|    no|   no|        yes|   no|     no|       no|    no| yes|     no|     no|     no|    no|      no| no|     no|\n",
            "|     39|            Clueless|1995|    no|       no|       no|      no|   yes|   no|         no|   no|     no|       no|    no|  no|     no|     no|    yes|    no|      no| no|     no|\n",
            "|     40|Cry, the Beloved ...|1995|    no|       no|       no|      no|    no|   no|         no|  yes|     no|       no|    no|  no|     no|     no|     no|    no|      no| no|     no|\n",
            "|     41|         Richard III|1995|    no|       no|       no|      no|    no|   no|         no|  yes|     no|       no|    no|  no|     no|     no|     no|    no|      no|yes|     no|\n",
            "+-------+--------------------+----+------+---------+---------+--------+------+-----+-----------+-----+-------+---------+------+----+-------+-------+-------+------+--------+---+-------+\n",
            "only showing top 20 rows\n",
            "\n"
          ]
        }
      ]
    },
    {
      "cell_type": "code",
      "source": [
        "df_final = df_final.dropDuplicates()"
      ],
      "metadata": {
        "id": "5aPjU9aK7nYL"
      },
      "execution_count": 14,
      "outputs": []
    },
    {
      "cell_type": "code",
      "source": [
        "df_final = df_final.orderBy('movieId')"
      ],
      "metadata": {
        "id": "WC98fr7d73zO"
      },
      "execution_count": 17,
      "outputs": []
    },
    {
      "cell_type": "code",
      "source": [
        "df_final.show()"
      ],
      "metadata": {
        "colab": {
          "base_uri": "https://localhost:8080/"
        },
        "id": "dp3vx4dIwA5b",
        "outputId": "37dfc88f-e9b9-4167-e61a-1d03da64e084"
      },
      "execution_count": 18,
      "outputs": [
        {
          "output_type": "stream",
          "name": "stdout",
          "text": [
            "+-------+--------------------+----+------+---------+---------+--------+------+-----+-----------+-----+-------+---------+------+----+-------+-------+-------+------+--------+---+-------+\n",
            "|movieId|               title|year|Action|Adventure|Animation|Children|Comedy|Crime|Documentary|Drama|Fantasy|Film-Noir|Horror|IMAX|Musical|Mystery|Romance|Sci-Fi|Thriller|War|Western|\n",
            "+-------+--------------------+----+------+---------+---------+--------+------+-----+-----------+-----+-------+---------+------+----+-------+-------+-------+------+--------+---+-------+\n",
            "|      1|           Toy Story|1995|    no|      yes|      yes|     yes|   yes|   no|         no|   no|    yes|       no|    no|  no|     no|     no|     no|    no|      no| no|     no|\n",
            "|      2|             Jumanji|1995|    no|      yes|       no|     yes|    no|   no|         no|   no|    yes|       no|    no|  no|     no|     no|     no|    no|      no| no|     no|\n",
            "|      3|    Grumpier Old Men|1995|    no|       no|       no|      no|   yes|   no|         no|   no|     no|       no|    no|  no|     no|     no|    yes|    no|      no| no|     no|\n",
            "|      4|   Waiting to Exhale|1995|    no|       no|       no|      no|   yes|   no|         no|  yes|     no|       no|    no|  no|     no|     no|    yes|    no|      no| no|     no|\n",
            "|      5|Father of the Bri...|1995|    no|       no|       no|      no|   yes|   no|         no|   no|     no|       no|    no|  no|     no|     no|     no|    no|      no| no|     no|\n",
            "|      6|                Heat|1995|   yes|       no|       no|      no|    no|  yes|         no|   no|     no|       no|    no|  no|     no|     no|     no|    no|     yes| no|     no|\n",
            "|      7|             Sabrina|1995|    no|       no|       no|      no|   yes|   no|         no|   no|     no|       no|    no|  no|     no|     no|    yes|    no|      no| no|     no|\n",
            "|      8|        Tom and Huck|1995|    no|      yes|       no|     yes|    no|   no|         no|   no|     no|       no|    no|  no|     no|     no|     no|    no|      no| no|     no|\n",
            "|      9|        Sudden Death|1995|   yes|       no|       no|      no|    no|   no|         no|   no|     no|       no|    no|  no|     no|     no|     no|    no|      no| no|     no|\n",
            "|     10|           GoldenEye|1995|   yes|      yes|       no|      no|    no|   no|         no|   no|     no|       no|    no|  no|     no|     no|     no|    no|     yes| no|     no|\n",
            "|     11|American Presiden...|1995|    no|       no|       no|      no|   yes|   no|         no|  yes|     no|       no|    no|  no|     no|     no|    yes|    no|      no| no|     no|\n",
            "|     12|Dracula: Dead and...|1995|    no|       no|       no|      no|   yes|   no|         no|   no|     no|       no|   yes|  no|     no|     no|     no|    no|      no| no|     no|\n",
            "|     13|               Balto|1995|    no|      yes|      yes|     yes|    no|   no|         no|   no|     no|       no|    no|  no|     no|     no|     no|    no|      no| no|     no|\n",
            "|     14|               Nixon|1995|    no|       no|       no|      no|    no|   no|         no|  yes|     no|       no|    no|  no|     no|     no|     no|    no|      no| no|     no|\n",
            "|     15|    Cutthroat Island|1995|   yes|      yes|       no|      no|    no|   no|         no|   no|     no|       no|    no|  no|     no|     no|    yes|    no|      no| no|     no|\n",
            "|     16|              Casino|1995|    no|       no|       no|      no|    no|  yes|         no|  yes|     no|       no|    no|  no|     no|     no|     no|    no|      no| no|     no|\n",
            "|     17|Sense and Sensibi...|1995|    no|       no|       no|      no|    no|   no|         no|  yes|     no|       no|    no|  no|     no|     no|    yes|    no|      no| no|     no|\n",
            "|     18|          Four Rooms|1995|    no|       no|       no|      no|   yes|   no|         no|   no|     no|       no|    no|  no|     no|     no|     no|    no|      no| no|     no|\n",
            "|     19|Ace Ventura: When...|1995|    no|       no|       no|      no|   yes|   no|         no|   no|     no|       no|    no|  no|     no|     no|     no|    no|      no| no|     no|\n",
            "|     20|         Money Train|1995|   yes|       no|       no|      no|   yes|  yes|         no|  yes|     no|       no|    no|  no|     no|     no|     no|    no|     yes| no|     no|\n",
            "+-------+--------------------+----+------+---------+---------+--------+------+-----+-----------+-----+-------+---------+------+----+-------+-------+-------+------+--------+---+-------+\n",
            "only showing top 20 rows\n",
            "\n"
          ]
        }
      ]
    },
    {
      "cell_type": "code",
      "source": [
        "df_final.write.format('csv').option('header','True').mode('overwrite').save('/content/drive/MyDrive/Silver_Layer/movies_transformed.csv')"
      ],
      "metadata": {
        "id": "1K5m_llWAuqg"
      },
      "execution_count": 19,
      "outputs": []
    },
    {
      "cell_type": "code",
      "source": [
        "df2 = spark.read.format('csv')\\\n",
        ".option('header',True)\\\n",
        ".option(\"inferschema\",True)\\\n",
        ".load('/content/drive/MyDrive/ml-latest/ratings.csv')"
      ],
      "metadata": {
        "id": "7JzO-e3f5YxC"
      },
      "execution_count": 20,
      "outputs": []
    },
    {
      "cell_type": "code",
      "source": [
        "df2.show()"
      ],
      "metadata": {
        "colab": {
          "base_uri": "https://localhost:8080/"
        },
        "id": "X9ng9ZKo9y0s",
        "outputId": "407db9c1-136b-49a0-aa13-2b17a6ccc568"
      },
      "execution_count": 21,
      "outputs": [
        {
          "output_type": "stream",
          "name": "stdout",
          "text": [
            "+------+-------+------+----------+\n",
            "|userId|movieId|rating| timestamp|\n",
            "+------+-------+------+----------+\n",
            "|     1|      1|   4.0|1225734739|\n",
            "|     1|    110|   4.0|1225865086|\n",
            "|     1|    158|   4.0|1225733503|\n",
            "|     1|    260|   4.5|1225735204|\n",
            "|     1|    356|   5.0|1225735119|\n",
            "|     1|    381|   3.5|1225734105|\n",
            "|     1|    596|   4.0|1225733524|\n",
            "|     1|   1036|   5.0|1225735626|\n",
            "|     1|   1049|   3.0|1225734079|\n",
            "|     1|   1066|   4.0|1225736961|\n",
            "|     1|   1196|   3.5|1225735441|\n",
            "|     1|   1200|   3.5|1225735861|\n",
            "|     1|   1210|   4.5|1225735210|\n",
            "|     1|   1214|   4.0|1225736426|\n",
            "|     1|   1291|   5.0|1225734809|\n",
            "|     1|   1293|   2.0|1225733842|\n",
            "|     1|   1376|   3.0|1225733539|\n",
            "|     1|   1396|   3.0|1225733534|\n",
            "|     1|   1537|   4.0|1225736687|\n",
            "|     1|   1909|   3.0|1225733717|\n",
            "+------+-------+------+----------+\n",
            "only showing top 20 rows\n",
            "\n"
          ]
        }
      ]
    },
    {
      "cell_type": "code",
      "source": [
        "df2 = df2.withColumn(\"timestamp\",F.from_unixtime(\"timestamp\").cast(\"timestamp\"))"
      ],
      "metadata": {
        "id": "PXMWBzqhF_hh"
      },
      "execution_count": null,
      "outputs": []
    },
    {
      "cell_type": "code",
      "source": [
        "df2 = df2.withColumn(\"date\",F.date_format(\"timestamp\",\"yyyy-mm-dd\"))"
      ],
      "metadata": {
        "id": "k8iOCCa8GJGk"
      },
      "execution_count": 35,
      "outputs": []
    },
    {
      "cell_type": "code",
      "source": [
        "df2 = df2.drop(\"year\")"
      ],
      "metadata": {
        "id": "kXHQumI8AG14"
      },
      "execution_count": 36,
      "outputs": []
    },
    {
      "cell_type": "code",
      "source": [
        "df_ratings = df2"
      ],
      "metadata": {
        "id": "vfADYxv-AAJy"
      },
      "execution_count": 38,
      "outputs": []
    },
    {
      "cell_type": "code",
      "source": [
        "df_ratings.write.format('csv').option('header','True').mode('overwrite').save('/content/drive/MyDrive/Silver_Layer/ratings_transformed.csv')"
      ],
      "metadata": {
        "id": "k__Kb_83GqNE"
      },
      "execution_count": null,
      "outputs": []
    }
  ]
}