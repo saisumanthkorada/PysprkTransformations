{
  "nbformat": 4,
  "nbformat_minor": 0,
  "metadata": {
    "colab": {
      "provenance": [],
      "authorship_tag": "ABX9TyMX/on8kzpOLYw+aJ/OHXyR",
      "include_colab_link": true
    },
    "kernelspec": {
      "name": "python3",
      "display_name": "Python 3"
    },
    "language_info": {
      "name": "python"
    }
  },
  "cells": [
    {
      "cell_type": "markdown",
      "metadata": {
        "id": "view-in-github",
        "colab_type": "text"
      },
      "source": [
        "<a href=\"https://colab.research.google.com/github/saisumanthkorada/PysprkTransformations/blob/main/Transforming_the_file.ipynb\" target=\"_parent\"><img src=\"https://colab.research.google.com/assets/colab-badge.svg\" alt=\"Open In Colab\"/></a>"
      ]
    },
    {
      "cell_type": "code",
      "execution_count": null,
      "metadata": {
        "colab": {
          "base_uri": "https://localhost:8080/"
        },
        "id": "btt2YTRDQv7P",
        "outputId": "5b60f83b-f94f-47b4-f42d-7060f5394d4c"
      },
      "outputs": [
        {
          "output_type": "stream",
          "name": "stdout",
          "text": [
            "Requirement already satisfied: pyspark in /usr/local/lib/python3.11/dist-packages (3.5.1)\n",
            "Requirement already satisfied: py4j==0.10.9.7 in /usr/local/lib/python3.11/dist-packages (from pyspark) (0.10.9.7)\n",
            "Requirement already satisfied: openpyxl in /usr/local/lib/python3.11/dist-packages (3.1.5)\n",
            "Requirement already satisfied: et-xmlfile in /usr/local/lib/python3.11/dist-packages (from openpyxl) (2.0.0)\n"
          ]
        }
      ],
      "source": [
        "!pip install pyspark\n",
        "!pip install openpyxl\n"
      ]
    },
    {
      "cell_type": "code",
      "source": [
        "from google.colab import drive\n",
        "drive.mount('/content/drive')"
      ],
      "metadata": {
        "colab": {
          "base_uri": "https://localhost:8080/"
        },
        "id": "8FvZPDxyUX-8",
        "outputId": "5a27948a-0d7a-44b5-ee1f-c84cbb66eb78"
      },
      "execution_count": null,
      "outputs": [
        {
          "output_type": "stream",
          "name": "stdout",
          "text": [
            "Mounted at /content/drive\n"
          ]
        }
      ]
    },
    {
      "cell_type": "code",
      "source": [
        "from pyspark.sql import SparkSession\n",
        "from pyspark.sql.functions import split, col,length,right,expr,regexp_extract,regexp_replace,trim,explode,first,lit\n",
        "from pyspark.sql.types import StructType, StructField, StringType, IntegerType, FloatType"
      ],
      "metadata": {
        "id": "QejTzvlJuWHj"
      },
      "execution_count": null,
      "outputs": []
    },
    {
      "cell_type": "code",
      "source": [
        "schema = StructType([\n",
        "    StructField(\"movieId\",IntegerType(),True),\n",
        "    StructField(\"title\",StringType(),True),\n",
        "    StructField(\"generes\",StringType(),True)\n",
        "])\n",
        "spark = SparkSession.builder.getOrCreate()\n",
        "df1 = spark.read.format('csv')\\\n",
        ".option('header',True)\\\n",
        ".schema(schema)\\\n",
        ".load('/content/drive/MyDrive/ml-latest/movies.csv')\n",
        "df1.show()"
      ],
      "metadata": {
        "colab": {
          "base_uri": "https://localhost:8080/"
        },
        "id": "xch2mF3jubUn",
        "outputId": "916b0c8a-00a6-4ba6-f863-c57ed95849b8"
      },
      "execution_count": null,
      "outputs": [
        {
          "output_type": "stream",
          "name": "stdout",
          "text": [
            "+-------+--------------------+--------------------+\n",
            "|movieId|               title|             generes|\n",
            "+-------+--------------------+--------------------+\n",
            "|      1|    Toy Story (1995)|Adventure|Animati...|\n",
            "|      2|      Jumanji (1995)|Adventure|Childre...|\n",
            "|      3|Grumpier Old Men ...|      Comedy|Romance|\n",
            "|      4|Waiting to Exhale...|Comedy|Drama|Romance|\n",
            "|      5|Father of the Bri...|              Comedy|\n",
            "|      6|         Heat (1995)|Action|Crime|Thri...|\n",
            "|      7|      Sabrina (1995)|      Comedy|Romance|\n",
            "|      8| Tom and Huck (1995)|  Adventure|Children|\n",
            "|      9| Sudden Death (1995)|              Action|\n",
            "|     10|    GoldenEye (1995)|Action|Adventure|...|\n",
            "|     11|American Presiden...|Comedy|Drama|Romance|\n",
            "|     12|Dracula: Dead and...|       Comedy|Horror|\n",
            "|     13|        Balto (1995)|Adventure|Animati...|\n",
            "|     14|        Nixon (1995)|               Drama|\n",
            "|     15|Cutthroat Island ...|Action|Adventure|...|\n",
            "|     16|       Casino (1995)|         Crime|Drama|\n",
            "|     17|Sense and Sensibi...|       Drama|Romance|\n",
            "|     18|   Four Rooms (1995)|              Comedy|\n",
            "|     19|Ace Ventura: When...|              Comedy|\n",
            "|     20|  Money Train (1995)|Action|Comedy|Cri...|\n",
            "+-------+--------------------+--------------------+\n",
            "only showing top 20 rows\n",
            "\n"
          ]
        }
      ]
    },
    {
      "cell_type": "code",
      "source": [],
      "metadata": {
        "colab": {
          "base_uri": "https://localhost:8080/"
        },
        "id": "LM9CtImqv4aM",
        "outputId": "4a07d788-e3e8-47a7-b406-8d9ab3f58ef8"
      },
      "execution_count": null,
      "outputs": [
        {
          "output_type": "stream",
          "name": "stdout",
          "text": [
            "+-------+--------------------+--------------------+----+--------------------+\n",
            "|movieId|               title|             generes|year|         genersarray|\n",
            "+-------+--------------------+--------------------+----+--------------------+\n",
            "|      1|           Toy Story|Adventure|Animati...|1995|[Adventure, Anima...|\n",
            "|      2|             Jumanji|Adventure|Childre...|1995|[Adventure, Child...|\n",
            "|      3|    Grumpier Old Men|      Comedy|Romance|1995|   [Comedy, Romance]|\n",
            "|      4|   Waiting to Exhale|Comedy|Drama|Romance|1995|[Comedy, Drama, R...|\n",
            "|      5|Father of the Bri...|              Comedy|1995|            [Comedy]|\n",
            "|      6|                Heat|Action|Crime|Thri...|1995|[Action, Crime, T...|\n",
            "|      7|             Sabrina|      Comedy|Romance|1995|   [Comedy, Romance]|\n",
            "|      8|        Tom and Huck|  Adventure|Children|1995|[Adventure, Child...|\n",
            "|      9|        Sudden Death|              Action|1995|            [Action]|\n",
            "|     10|           GoldenEye|Action|Adventure|...|1995|[Action, Adventur...|\n",
            "|     11|American Presiden...|Comedy|Drama|Romance|1995|[Comedy, Drama, R...|\n",
            "|     12|Dracula: Dead and...|       Comedy|Horror|1995|    [Comedy, Horror]|\n",
            "|     13|               Balto|Adventure|Animati...|1995|[Adventure, Anima...|\n",
            "|     14|               Nixon|               Drama|1995|             [Drama]|\n",
            "|     15|    Cutthroat Island|Action|Adventure|...|1995|[Action, Adventur...|\n",
            "|     16|              Casino|         Crime|Drama|1995|      [Crime, Drama]|\n",
            "|     17|Sense and Sensibi...|       Drama|Romance|1995|    [Drama, Romance]|\n",
            "|     18|          Four Rooms|              Comedy|1995|            [Comedy]|\n",
            "|     19|Ace Ventura: When...|              Comedy|1995|            [Comedy]|\n",
            "|     20|         Money Train|Action|Comedy|Cri...|1995|[Action, Comedy, ...|\n",
            "+-------+--------------------+--------------------+----+--------------------+\n",
            "only showing top 20 rows\n",
            "\n"
          ]
        }
      ]
    },
    {
      "cell_type": "code",
      "source": [
        "df1 = df1.withColumn(\n",
        "  \"year\",\n",
        "  regexp_extract(col(\"title\"), r\"\\((\\d{4})\\)$\", 1)\n",
        ")\n",
        "df1=df1.withColumn(\"title\",\n",
        "    trim(regexp_replace(col(\"title\"), r\"\\s*\\(\\d{4}\\)$\", \"\")))"
      ],
      "metadata": {
        "id": "hR6rDbtewAI_"
      },
      "execution_count": null,
      "outputs": []
    },
    {
      "cell_type": "code",
      "source": [
        "df1 = df1.withColumn(\"genersarray\",split(col('generes'), r\"\\s*\\|\\s*\"))"
      ],
      "metadata": {
        "id": "dWORB2PrmtU_"
      },
      "execution_count": null,
      "outputs": []
    },
    {
      "cell_type": "code",
      "source": [
        "df1.show()"
      ],
      "metadata": {
        "colab": {
          "base_uri": "https://localhost:8080/"
        },
        "id": "iF1GeQdixAHm",
        "outputId": "bca8b93b-ada0-4be1-e1e7-fc761d2cc505"
      },
      "execution_count": null,
      "outputs": [
        {
          "output_type": "stream",
          "name": "stdout",
          "text": [
            "+-------+--------------------+--------------------+----+--------------------+\n",
            "|movieId|               title|             generes|year|         genersarray|\n",
            "+-------+--------------------+--------------------+----+--------------------+\n",
            "|      1|           Toy Story|Adventure|Animati...|1995|[Adventure, Anima...|\n",
            "|      2|             Jumanji|Adventure|Childre...|1995|[Adventure, Child...|\n",
            "|      3|    Grumpier Old Men|      Comedy|Romance|1995|   [Comedy, Romance]|\n",
            "|      4|   Waiting to Exhale|Comedy|Drama|Romance|1995|[Comedy, Drama, R...|\n",
            "|      5|Father of the Bri...|              Comedy|1995|            [Comedy]|\n",
            "|      6|                Heat|Action|Crime|Thri...|1995|[Action, Crime, T...|\n",
            "|      7|             Sabrina|      Comedy|Romance|1995|   [Comedy, Romance]|\n",
            "|      8|        Tom and Huck|  Adventure|Children|1995|[Adventure, Child...|\n",
            "|      9|        Sudden Death|              Action|1995|            [Action]|\n",
            "|     10|           GoldenEye|Action|Adventure|...|1995|[Action, Adventur...|\n",
            "|     11|American Presiden...|Comedy|Drama|Romance|1995|[Comedy, Drama, R...|\n",
            "|     12|Dracula: Dead and...|       Comedy|Horror|1995|    [Comedy, Horror]|\n",
            "|     13|               Balto|Adventure|Animati...|1995|[Adventure, Anima...|\n",
            "|     14|               Nixon|               Drama|1995|             [Drama]|\n",
            "|     15|    Cutthroat Island|Action|Adventure|...|1995|[Action, Adventur...|\n",
            "|     16|              Casino|         Crime|Drama|1995|      [Crime, Drama]|\n",
            "|     17|Sense and Sensibi...|       Drama|Romance|1995|    [Drama, Romance]|\n",
            "|     18|          Four Rooms|              Comedy|1995|            [Comedy]|\n",
            "|     19|Ace Ventura: When...|              Comedy|1995|            [Comedy]|\n",
            "|     20|         Money Train|Action|Comedy|Cri...|1995|[Action, Comedy, ...|\n",
            "+-------+--------------------+--------------------+----+--------------------+\n",
            "only showing top 20 rows\n",
            "\n"
          ]
        }
      ]
    },
    {
      "cell_type": "code",
      "source": [
        "df_exploded = df1.withColumn(\"generes\",explode(\"genersarray\"))"
      ],
      "metadata": {
        "id": "pf7m_ZSNngpT"
      },
      "execution_count": null,
      "outputs": []
    },
    {
      "cell_type": "code",
      "source": [
        "df_exploded.show()"
      ],
      "metadata": {
        "colab": {
          "base_uri": "https://localhost:8080/"
        },
        "id": "6HluAbJz4PKa",
        "outputId": "41174ad5-75b8-4565-e389-84d036badb1f"
      },
      "execution_count": null,
      "outputs": [
        {
          "output_type": "stream",
          "name": "stdout",
          "text": [
            "+-------+--------------------+---------+----+--------------------+\n",
            "|movieId|               title|  generes|year|         genersarray|\n",
            "+-------+--------------------+---------+----+--------------------+\n",
            "|      1|           Toy Story|Adventure|1995|[Adventure, Anima...|\n",
            "|      1|           Toy Story|Animation|1995|[Adventure, Anima...|\n",
            "|      1|           Toy Story| Children|1995|[Adventure, Anima...|\n",
            "|      1|           Toy Story|   Comedy|1995|[Adventure, Anima...|\n",
            "|      1|           Toy Story|  Fantasy|1995|[Adventure, Anima...|\n",
            "|      2|             Jumanji|Adventure|1995|[Adventure, Child...|\n",
            "|      2|             Jumanji| Children|1995|[Adventure, Child...|\n",
            "|      2|             Jumanji|  Fantasy|1995|[Adventure, Child...|\n",
            "|      3|    Grumpier Old Men|   Comedy|1995|   [Comedy, Romance]|\n",
            "|      3|    Grumpier Old Men|  Romance|1995|   [Comedy, Romance]|\n",
            "|      4|   Waiting to Exhale|   Comedy|1995|[Comedy, Drama, R...|\n",
            "|      4|   Waiting to Exhale|    Drama|1995|[Comedy, Drama, R...|\n",
            "|      4|   Waiting to Exhale|  Romance|1995|[Comedy, Drama, R...|\n",
            "|      5|Father of the Bri...|   Comedy|1995|            [Comedy]|\n",
            "|      6|                Heat|   Action|1995|[Action, Crime, T...|\n",
            "|      6|                Heat|    Crime|1995|[Action, Crime, T...|\n",
            "|      6|                Heat| Thriller|1995|[Action, Crime, T...|\n",
            "|      7|             Sabrina|   Comedy|1995|   [Comedy, Romance]|\n",
            "|      7|             Sabrina|  Romance|1995|   [Comedy, Romance]|\n",
            "|      8|        Tom and Huck|Adventure|1995|[Adventure, Child...|\n",
            "+-------+--------------------+---------+----+--------------------+\n",
            "only showing top 20 rows\n",
            "\n"
          ]
        }
      ]
    },
    {
      "cell_type": "code",
      "source": [
        "df_final = df_exploded.groupBy(\"movieId\",\"title\",\"year\").pivot(\"generes\").agg(first(lit(\"yes\")))"
      ],
      "metadata": {
        "id": "bhTWjKAYry4T"
      },
      "execution_count": null,
      "outputs": []
    },
    {
      "cell_type": "code",
      "source": [
        "l= df_final.columns"
      ],
      "metadata": {
        "colab": {
          "base_uri": "https://localhost:8080/"
        },
        "id": "NxEN3AKusJkU",
        "outputId": "b88b6c52-2b50-4219-9681-ef16540fbfaa"
      },
      "execution_count": null,
      "outputs": [
        {
          "output_type": "stream",
          "name": "stdout",
          "text": [
            "+-------+--------------------+----+------+---------+---------+--------+------+-----+-----------+-----+-------+---------+------+----+-------+-------+-------+------+--------+---+-------+\n",
            "|movieId|               title|year|Action|Adventure|Animation|Children|Comedy|Crime|Documentary|Drama|Fantasy|Film-Noir|Horror|IMAX|Musical|Mystery|Romance|Sci-Fi|Thriller|War|Western|\n",
            "+-------+--------------------+----+------+---------+---------+--------+------+-----+-----------+-----+-------+---------+------+----+-------+-------+-------+------+--------+---+-------+\n",
            "|      4|   Waiting to Exhale|1995|    no|       no|       no|      no|   yes|   no|         no|  yes|     no|       no|    no|  no|     no|     no|    yes|    no|      no| no|     no|\n",
            "|      5|Father of the Bri...|1995|    no|       no|       no|      no|   yes|   no|         no|   no|     no|       no|    no|  no|     no|     no|     no|    no|      no| no|     no|\n",
            "|      6|                Heat|1995|   yes|       no|       no|      no|    no|  yes|         no|   no|     no|       no|    no|  no|     no|     no|     no|    no|     yes| no|     no|\n",
            "|      8|        Tom and Huck|1995|    no|      yes|       no|     yes|    no|   no|         no|   no|     no|       no|    no|  no|     no|     no|     no|    no|      no| no|     no|\n",
            "|     12|Dracula: Dead and...|1995|    no|       no|       no|      no|   yes|   no|         no|   no|     no|       no|   yes|  no|     no|     no|     no|    no|      no| no|     no|\n",
            "|     13|               Balto|1995|    no|      yes|      yes|     yes|    no|   no|         no|   no|     no|       no|    no|  no|     no|     no|     no|    no|      no| no|     no|\n",
            "|     15|    Cutthroat Island|1995|   yes|      yes|       no|      no|    no|   no|         no|   no|     no|       no|    no|  no|     no|     no|    yes|    no|      no| no|     no|\n",
            "|     17|Sense and Sensibi...|1995|    no|       no|       no|      no|    no|   no|         no|  yes|     no|       no|    no|  no|     no|     no|    yes|    no|      no| no|     no|\n",
            "|     18|          Four Rooms|1995|    no|       no|       no|      no|   yes|   no|         no|   no|     no|       no|    no|  no|     no|     no|     no|    no|      no| no|     no|\n",
            "|     19|Ace Ventura: When...|1995|    no|       no|       no|      no|   yes|   no|         no|   no|     no|       no|    no|  no|     no|     no|     no|    no|      no| no|     no|\n",
            "|     23|           Assassins|1995|   yes|       no|       no|      no|    no|  yes|         no|   no|     no|       no|    no|  no|     no|     no|     no|    no|     yes| no|     no|\n",
            "|     24|              Powder|1995|    no|       no|       no|      no|    no|   no|         no|  yes|     no|       no|    no|  no|     no|     no|     no|   yes|      no| no|     no|\n",
            "|     25|   Leaving Las Vegas|1995|    no|       no|       no|      no|    no|   no|         no|  yes|     no|       no|    no|  no|     no|     no|    yes|    no|      no| no|     no|\n",
            "|     26|             Othello|1995|    no|       no|       no|      no|    no|   no|         no|  yes|     no|       no|    no|  no|     no|     no|     no|    no|      no| no|     no|\n",
            "|     35|          Carrington|1995|    no|       no|       no|      no|    no|   no|         no|  yes|     no|       no|    no|  no|     no|     no|    yes|    no|      no| no|     no|\n",
            "|     36|    Dead Man Walking|1995|    no|       no|       no|      no|    no|  yes|         no|  yes|     no|       no|    no|  no|     no|     no|     no|    no|      no| no|     no|\n",
            "|     37|Across the Sea of...|1995|    no|       no|       no|      no|    no|   no|        yes|   no|     no|       no|    no| yes|     no|     no|     no|    no|      no| no|     no|\n",
            "|     39|            Clueless|1995|    no|       no|       no|      no|   yes|   no|         no|   no|     no|       no|    no|  no|     no|     no|    yes|    no|      no| no|     no|\n",
            "|     40|Cry, the Beloved ...|1995|    no|       no|       no|      no|    no|   no|         no|  yes|     no|       no|    no|  no|     no|     no|     no|    no|      no| no|     no|\n",
            "|     41|         Richard III|1995|    no|       no|       no|      no|    no|   no|         no|  yes|     no|       no|    no|  no|     no|     no|     no|    no|      no|yes|     no|\n",
            "+-------+--------------------+----+------+---------+---------+--------+------+-----+-----------+-----+-------+---------+------+----+-------+-------+-------+------+--------+---+-------+\n",
            "only showing top 20 rows\n",
            "\n"
          ]
        }
      ]
    },
    {
      "cell_type": "code",
      "source": [
        "for k in l:\n",
        "  if \"(\" in k:\n",
        "    df_final = df_final.drop(k)"
      ],
      "metadata": {
        "id": "DR0_h05xuCFj"
      },
      "execution_count": null,
      "outputs": []
    },
    {
      "cell_type": "code",
      "source": [
        "df_final = df_final.fillna(\"no\")\n",
        "df_final.show()"
      ],
      "metadata": {
        "colab": {
          "base_uri": "https://localhost:8080/"
        },
        "id": "eFzFJ4QiunJI",
        "outputId": "a59206e7-74dd-4fcc-ec56-ed6ad164818b"
      },
      "execution_count": null,
      "outputs": [
        {
          "output_type": "stream",
          "name": "stdout",
          "text": [
            "+-------+--------------------+----+------+---------+---------+--------+------+-----+-----------+-----+-------+---------+------+----+-------+-------+-------+------+--------+---+-------+\n",
            "|movieId|               title|year|Action|Adventure|Animation|Children|Comedy|Crime|Documentary|Drama|Fantasy|Film-Noir|Horror|IMAX|Musical|Mystery|Romance|Sci-Fi|Thriller|War|Western|\n",
            "+-------+--------------------+----+------+---------+---------+--------+------+-----+-----------+-----+-------+---------+------+----+-------+-------+-------+------+--------+---+-------+\n",
            "|      4|   Waiting to Exhale|1995|    no|       no|       no|      no|   yes|   no|         no|  yes|     no|       no|    no|  no|     no|     no|    yes|    no|      no| no|     no|\n",
            "|      5|Father of the Bri...|1995|    no|       no|       no|      no|   yes|   no|         no|   no|     no|       no|    no|  no|     no|     no|     no|    no|      no| no|     no|\n",
            "|      6|                Heat|1995|   yes|       no|       no|      no|    no|  yes|         no|   no|     no|       no|    no|  no|     no|     no|     no|    no|     yes| no|     no|\n",
            "|      8|        Tom and Huck|1995|    no|      yes|       no|     yes|    no|   no|         no|   no|     no|       no|    no|  no|     no|     no|     no|    no|      no| no|     no|\n",
            "|     12|Dracula: Dead and...|1995|    no|       no|       no|      no|   yes|   no|         no|   no|     no|       no|   yes|  no|     no|     no|     no|    no|      no| no|     no|\n",
            "|     13|               Balto|1995|    no|      yes|      yes|     yes|    no|   no|         no|   no|     no|       no|    no|  no|     no|     no|     no|    no|      no| no|     no|\n",
            "|     15|    Cutthroat Island|1995|   yes|      yes|       no|      no|    no|   no|         no|   no|     no|       no|    no|  no|     no|     no|    yes|    no|      no| no|     no|\n",
            "|     17|Sense and Sensibi...|1995|    no|       no|       no|      no|    no|   no|         no|  yes|     no|       no|    no|  no|     no|     no|    yes|    no|      no| no|     no|\n",
            "|     18|          Four Rooms|1995|    no|       no|       no|      no|   yes|   no|         no|   no|     no|       no|    no|  no|     no|     no|     no|    no|      no| no|     no|\n",
            "|     19|Ace Ventura: When...|1995|    no|       no|       no|      no|   yes|   no|         no|   no|     no|       no|    no|  no|     no|     no|     no|    no|      no| no|     no|\n",
            "|     23|           Assassins|1995|   yes|       no|       no|      no|    no|  yes|         no|   no|     no|       no|    no|  no|     no|     no|     no|    no|     yes| no|     no|\n",
            "|     24|              Powder|1995|    no|       no|       no|      no|    no|   no|         no|  yes|     no|       no|    no|  no|     no|     no|     no|   yes|      no| no|     no|\n",
            "|     25|   Leaving Las Vegas|1995|    no|       no|       no|      no|    no|   no|         no|  yes|     no|       no|    no|  no|     no|     no|    yes|    no|      no| no|     no|\n",
            "|     26|             Othello|1995|    no|       no|       no|      no|    no|   no|         no|  yes|     no|       no|    no|  no|     no|     no|     no|    no|      no| no|     no|\n",
            "|     35|          Carrington|1995|    no|       no|       no|      no|    no|   no|         no|  yes|     no|       no|    no|  no|     no|     no|    yes|    no|      no| no|     no|\n",
            "|     36|    Dead Man Walking|1995|    no|       no|       no|      no|    no|  yes|         no|  yes|     no|       no|    no|  no|     no|     no|     no|    no|      no| no|     no|\n",
            "|     37|Across the Sea of...|1995|    no|       no|       no|      no|    no|   no|        yes|   no|     no|       no|    no| yes|     no|     no|     no|    no|      no| no|     no|\n",
            "|     39|            Clueless|1995|    no|       no|       no|      no|   yes|   no|         no|   no|     no|       no|    no|  no|     no|     no|    yes|    no|      no| no|     no|\n",
            "|     40|Cry, the Beloved ...|1995|    no|       no|       no|      no|    no|   no|         no|  yes|     no|       no|    no|  no|     no|     no|     no|    no|      no| no|     no|\n",
            "|     41|         Richard III|1995|    no|       no|       no|      no|    no|   no|         no|  yes|     no|       no|    no|  no|     no|     no|     no|    no|      no|yes|     no|\n",
            "+-------+--------------------+----+------+---------+---------+--------+------+-----+-----------+-----+-------+---------+------+----+-------+-------+-------+------+--------+---+-------+\n",
            "only showing top 20 rows\n",
            "\n"
          ]
        }
      ]
    },
    {
      "cell_type": "code",
      "source": [
        "df_final.orderBy('movieId').show()"
      ],
      "metadata": {
        "colab": {
          "base_uri": "https://localhost:8080/"
        },
        "id": "dp3vx4dIwA5b",
        "outputId": "5b0e2ce9-22f3-4867-a766-f36aa59769ee"
      },
      "execution_count": null,
      "outputs": [
        {
          "output_type": "stream",
          "name": "stdout",
          "text": [
            "+-------+--------------------+----+------+---------+---------+--------+------+-----+-----------+-----+-------+---------+------+----+-------+-------+-------+------+--------+---+-------+\n",
            "|movieId|               title|year|Action|Adventure|Animation|Children|Comedy|Crime|Documentary|Drama|Fantasy|Film-Noir|Horror|IMAX|Musical|Mystery|Romance|Sci-Fi|Thriller|War|Western|\n",
            "+-------+--------------------+----+------+---------+---------+--------+------+-----+-----------+-----+-------+---------+------+----+-------+-------+-------+------+--------+---+-------+\n",
            "|      1|           Toy Story|1995|    no|      yes|      yes|     yes|   yes|   no|         no|   no|    yes|       no|    no|  no|     no|     no|     no|    no|      no| no|     no|\n",
            "|      2|             Jumanji|1995|    no|      yes|       no|     yes|    no|   no|         no|   no|    yes|       no|    no|  no|     no|     no|     no|    no|      no| no|     no|\n",
            "|      3|    Grumpier Old Men|1995|    no|       no|       no|      no|   yes|   no|         no|   no|     no|       no|    no|  no|     no|     no|    yes|    no|      no| no|     no|\n",
            "|      4|   Waiting to Exhale|1995|    no|       no|       no|      no|   yes|   no|         no|  yes|     no|       no|    no|  no|     no|     no|    yes|    no|      no| no|     no|\n",
            "|      5|Father of the Bri...|1995|    no|       no|       no|      no|   yes|   no|         no|   no|     no|       no|    no|  no|     no|     no|     no|    no|      no| no|     no|\n",
            "|      6|                Heat|1995|   yes|       no|       no|      no|    no|  yes|         no|   no|     no|       no|    no|  no|     no|     no|     no|    no|     yes| no|     no|\n",
            "|      7|             Sabrina|1995|    no|       no|       no|      no|   yes|   no|         no|   no|     no|       no|    no|  no|     no|     no|    yes|    no|      no| no|     no|\n",
            "|      8|        Tom and Huck|1995|    no|      yes|       no|     yes|    no|   no|         no|   no|     no|       no|    no|  no|     no|     no|     no|    no|      no| no|     no|\n",
            "|      9|        Sudden Death|1995|   yes|       no|       no|      no|    no|   no|         no|   no|     no|       no|    no|  no|     no|     no|     no|    no|      no| no|     no|\n",
            "|     10|           GoldenEye|1995|   yes|      yes|       no|      no|    no|   no|         no|   no|     no|       no|    no|  no|     no|     no|     no|    no|     yes| no|     no|\n",
            "|     11|American Presiden...|1995|    no|       no|       no|      no|   yes|   no|         no|  yes|     no|       no|    no|  no|     no|     no|    yes|    no|      no| no|     no|\n",
            "|     12|Dracula: Dead and...|1995|    no|       no|       no|      no|   yes|   no|         no|   no|     no|       no|   yes|  no|     no|     no|     no|    no|      no| no|     no|\n",
            "|     13|               Balto|1995|    no|      yes|      yes|     yes|    no|   no|         no|   no|     no|       no|    no|  no|     no|     no|     no|    no|      no| no|     no|\n",
            "|     14|               Nixon|1995|    no|       no|       no|      no|    no|   no|         no|  yes|     no|       no|    no|  no|     no|     no|     no|    no|      no| no|     no|\n",
            "|     15|    Cutthroat Island|1995|   yes|      yes|       no|      no|    no|   no|         no|   no|     no|       no|    no|  no|     no|     no|    yes|    no|      no| no|     no|\n",
            "|     16|              Casino|1995|    no|       no|       no|      no|    no|  yes|         no|  yes|     no|       no|    no|  no|     no|     no|     no|    no|      no| no|     no|\n",
            "|     17|Sense and Sensibi...|1995|    no|       no|       no|      no|    no|   no|         no|  yes|     no|       no|    no|  no|     no|     no|    yes|    no|      no| no|     no|\n",
            "|     18|          Four Rooms|1995|    no|       no|       no|      no|   yes|   no|         no|   no|     no|       no|    no|  no|     no|     no|     no|    no|      no| no|     no|\n",
            "|     19|Ace Ventura: When...|1995|    no|       no|       no|      no|   yes|   no|         no|   no|     no|       no|    no|  no|     no|     no|     no|    no|      no| no|     no|\n",
            "|     20|         Money Train|1995|   yes|       no|       no|      no|   yes|  yes|         no|  yes|     no|       no|    no|  no|     no|     no|     no|    no|     yes| no|     no|\n",
            "+-------+--------------------+----+------+---------+---------+--------+------+-----+-----------+-----+-------+---------+------+----+-------+-------+-------+------+--------+---+-------+\n",
            "only showing top 20 rows\n",
            "\n"
          ]
        }
      ]
    },
    {
      "cell_type": "code",
      "source": [
        "df_final.select('title',filter(col('Action')=='yes' ).show()"
      ],
      "metadata": {
        "colab": {
          "base_uri": "https://localhost:8080/"
        },
        "id": "1K5m_llWAuqg",
        "outputId": "00b50e28-fd6a-48d1-87d9-b16db8c390a3"
      },
      "execution_count": null,
      "outputs": [
        {
          "output_type": "stream",
          "name": "stdout",
          "text": [
            "+-------+--------------------+----+------+---------+---------+--------+------+-----+-----------+-----+-------+---------+------+----+-------+-------+-------+------+--------+---+-------+\n",
            "|movieId|               title|year|Action|Adventure|Animation|Children|Comedy|Crime|Documentary|Drama|Fantasy|Film-Noir|Horror|IMAX|Musical|Mystery|Romance|Sci-Fi|Thriller|War|Western|\n",
            "+-------+--------------------+----+------+---------+---------+--------+------+-----+-----------+-----+-------+---------+------+----+-------+-------+-------+------+--------+---+-------+\n",
            "|      6|                Heat|1995|   yes|       no|       no|      no|    no|  yes|         no|   no|     no|       no|    no|  no|     no|     no|     no|    no|     yes| no|     no|\n",
            "|     15|    Cutthroat Island|1995|   yes|      yes|       no|      no|    no|   no|         no|   no|     no|       no|    no|  no|     no|     no|    yes|    no|      no| no|     no|\n",
            "|     23|           Assassins|1995|   yes|       no|       no|      no|    no|  yes|         no|   no|     no|       no|    no|  no|     no|     no|     no|    no|     yes| no|     no|\n",
            "|     66|Lawnmower Man 2: ...|1996|   yes|       no|       no|      no|    no|   no|         no|   no|     no|       no|    no|  no|     no|     no|     no|   yes|     yes| no|     no|\n",
            "|     71|           Fair Game|1995|   yes|       no|       no|      no|    no|   no|         no|   no|     no|       no|    no|  no|     no|     no|     no|    no|      no| no|     no|\n",
            "|     78| Crossing Guard, The|1995|   yes|       no|       no|      no|    no|  yes|         no|  yes|     no|       no|    no|  no|     no|     no|     no|    no|     yes| no|     no|\n",
            "|     86|        White Squall|1996|   yes|      yes|       no|      no|    no|   no|         no|  yes|     no|       no|    no|  no|     no|     no|     no|    no|      no| no|     no|\n",
            "|     89|        Nick of Time|1995|   yes|       no|       no|      no|    no|   no|         no|   no|     no|       no|    no|  no|     no|     no|     no|    no|     yes| no|     no|\n",
            "|     98|            Shopping|1994|   yes|       no|       no|      no|    no|   no|         no|   no|     no|       no|    no|  no|     no|     no|     no|    no|     yes| no|     no|\n",
            "|    139|              Target|1995|   yes|       no|       no|      no|    no|   no|         no|  yes|     no|       no|    no|  no|     no|     no|     no|    no|      no| no|     no|\n",
            "|    153|      Batman Forever|1995|   yes|      yes|       no|      no|   yes|  yes|         no|   no|     no|       no|    no|  no|     no|     no|     no|    no|      no| no|     no|\n",
            "|    163|           Desperado|1995|   yes|       no|       no|      no|    no|   no|         no|   no|     no|       no|    no|  no|     no|     no|    yes|    no|      no| no|    yes|\n",
            "|    165|Die Hard: With a ...|1995|   yes|       no|       no|      no|    no|  yes|         no|   no|     no|       no|    no|  no|     no|     no|     no|    no|     yes| no|     no|\n",
            "|    168|        First Knight|1995|   yes|       no|       no|      no|    no|   no|         no|  yes|     no|       no|    no|  no|     no|     no|    yes|    no|      no| no|     no|\n",
            "|    170|             Hackers|1995|   yes|      yes|       no|      no|    no|  yes|         no|   no|     no|       no|    no|  no|     no|     no|     no|    no|     yes| no|     no|\n",
            "|    172|     Johnny Mnemonic|1995|   yes|       no|       no|      no|    no|   no|         no|   no|     no|       no|    no|  no|     no|     no|     no|   yes|     yes| no|     no|\n",
            "|    181|Mighty Morphin Po...|1995|   yes|       no|       no|     yes|    no|   no|         no|   no|     no|       no|    no|  no|     no|     no|     no|    no|      no| no|     no|\n",
            "|    204|Under Siege 2: Da...|1995|   yes|       no|       no|      no|    no|   no|         no|   no|     no|       no|    no|  no|     no|     no|     no|    no|      no| no|     no|\n",
            "|    227|           Drop Zone|1994|   yes|       no|       no|      no|    no|   no|         no|   no|     no|       no|    no|  no|     no|     no|     no|    no|     yes| no|     no|\n",
            "|    236|         French Kiss|1995|   yes|       no|       no|      no|   yes|   no|         no|   no|     no|       no|    no|  no|     no|     no|    yes|    no|      no| no|     no|\n",
            "+-------+--------------------+----+------+---------+---------+--------+------+-----+-----------+-----+-------+---------+------+----+-------+-------+-------+------+--------+---+-------+\n",
            "only showing top 20 rows\n",
            "\n"
          ]
        }
      ]
    },
    {
      "cell_type": "code",
      "source": [
        "df2 = spark.read.format('csv')\\\n",
        ".option('header',True)\\\n",
        ".option(\"inferschema\",True)\\\n",
        ".load('/content/drive/MyDrive/ml-latest/ratings.csv')"
      ],
      "metadata": {
        "id": "7JzO-e3f5YxC"
      },
      "execution_count": null,
      "outputs": []
    }
  ]
}